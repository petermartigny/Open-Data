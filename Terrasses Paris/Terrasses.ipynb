{
 "cells": [
  {
   "cell_type": "code",
   "execution_count": 1,
   "metadata": {
    "collapsed": true
   },
   "outputs": [],
   "source": [
    "import pandas as pd\n",
    "pd.set_option('display.max_columns', False)\n",
    "import time\n",
    "import seaborn as sns"
   ]
  },
  {
   "cell_type": "code",
   "execution_count": 2,
   "metadata": {
    "collapsed": true
   },
   "outputs": [],
   "source": [
    "data = pd.read_csv('etalages-et-terrasses.csv', sep=';')"
   ]
  },
  {
   "cell_type": "code",
   "execution_count": 3,
   "metadata": {
    "collapsed": false
   },
   "outputs": [
    {
     "data": {
      "text/html": [
       "<div>\n",
       "<table border=\"1\" class=\"dataframe\">\n",
       "  <thead>\n",
       "    <tr style=\"text-align: right;\">\n",
       "      <th></th>\n",
       "      <th>LIBELLE_TYPE</th>\n",
       "      <th>LIEU1</th>\n",
       "      <th>AFFICHETTE</th>\n",
       "      <th>RED_PROFESSION</th>\n",
       "      <th>LIEU2</th>\n",
       "      <th>TYPE_LIEU1</th>\n",
       "      <th>TYPE_LIEU2</th>\n",
       "      <th>LATERALITE</th>\n",
       "      <th>LONGUEUR</th>\n",
       "      <th>LARGEURMIN</th>\n",
       "      <th>LARGEURMAX</th>\n",
       "      <th>NUM_OBJET</th>\n",
       "      <th>OBSERVATIONS</th>\n",
       "      <th>DATE_PERIODE</th>\n",
       "      <th>geo_shape</th>\n",
       "      <th>geo_point_2d</th>\n",
       "    </tr>\n",
       "  </thead>\n",
       "  <tbody>\n",
       "    <tr>\n",
       "      <th>0</th>\n",
       "      <td>TERRASSE OUVERTE</td>\n",
       "      <td>8 RUE DES LAVANDIERES SAINTE OPPORTUNE</td>\n",
       "      <td>http://affichette-commerce.paris.fr/2015/Q_01/...</td>\n",
       "      <td>BAR - CAFE - PUB</td>\n",
       "      <td>NaN</td>\n",
       "      <td>B</td>\n",
       "      <td>NaN</td>\n",
       "      <td>NaN</td>\n",
       "      <td>14.00</td>\n",
       "      <td>0.80</td>\n",
       "      <td>0.80</td>\n",
       "      <td>1</td>\n",
       "      <td>NaN</td>\n",
       "      <td>Toute l'année</td>\n",
       "      <td>{\"type\": \"Polygon\", \"coordinates\": [[[2.346293...</td>\n",
       "      <td>48.8589103771, 2.34633445832</td>\n",
       "    </tr>\n",
       "    <tr>\n",
       "      <th>1</th>\n",
       "      <td>TERRASSE OUVERTE</td>\n",
       "      <td>53 RUE DE RIVOLI</td>\n",
       "      <td>http://affichette-commerce.paris.fr/2015/Q_01/...</td>\n",
       "      <td>BAR - CAFE - PUB</td>\n",
       "      <td>8 RUE DES LAVANDIERES SAINTE OPPORTUNE</td>\n",
       "      <td>A</td>\n",
       "      <td>B</td>\n",
       "      <td>NaN</td>\n",
       "      <td>4.00</td>\n",
       "      <td>1.00</td>\n",
       "      <td>1.00</td>\n",
       "      <td>2</td>\n",
       "      <td>NaN</td>\n",
       "      <td>Toute l'année</td>\n",
       "      <td>{\"type\": \"Polygon\", \"coordinates\": [[[2.346384...</td>\n",
       "      <td>48.8589763984, 2.34641878406</td>\n",
       "    </tr>\n",
       "    <tr>\n",
       "      <th>2</th>\n",
       "      <td>TERRASSE OUVERTE</td>\n",
       "      <td>1 PLACE DU CHATELET</td>\n",
       "      <td>http://affichette-commerce.paris.fr/2015/Q_01/...</td>\n",
       "      <td>RESTAURANT</td>\n",
       "      <td>NaN</td>\n",
       "      <td>B</td>\n",
       "      <td>NaN</td>\n",
       "      <td>NaN</td>\n",
       "      <td>10.20</td>\n",
       "      <td>0.95</td>\n",
       "      <td>0.95</td>\n",
       "      <td>1</td>\n",
       "      <td>DEVANT TERRASSE FERMEE</td>\n",
       "      <td>Toute l'année</td>\n",
       "      <td>{\"type\": \"Polygon\", \"coordinates\": [[[2.346906...</td>\n",
       "      <td>48.8577730703, 2.34692666255</td>\n",
       "    </tr>\n",
       "    <tr>\n",
       "      <th>3</th>\n",
       "      <td>PLANCHER MOBILE</td>\n",
       "      <td>75 AVENUE DU GENERAL LECLERC</td>\n",
       "      <td>http://affichette-commerce.paris.fr/2015/Q_55/...</td>\n",
       "      <td>BRASSERIE</td>\n",
       "      <td>NaN</td>\n",
       "      <td>A</td>\n",
       "      <td>NaN</td>\n",
       "      <td>GAUCHE</td>\n",
       "      <td>3.65</td>\n",
       "      <td>2.00</td>\n",
       "      <td>2.00</td>\n",
       "      <td>2</td>\n",
       "      <td>NaN</td>\n",
       "      <td>Toute l'année</td>\n",
       "      <td>{\"type\": \"Polygon\", \"coordinates\": [[[2.327366...</td>\n",
       "      <td>48.8281140898, 2.32736701829</td>\n",
       "    </tr>\n",
       "    <tr>\n",
       "      <th>4</th>\n",
       "      <td>PLANCHER MOBILE</td>\n",
       "      <td>75 AVENUE DU GENERAL LECLERC</td>\n",
       "      <td>http://affichette-commerce.paris.fr/2015/Q_55/...</td>\n",
       "      <td>BRASSERIE</td>\n",
       "      <td>NaN</td>\n",
       "      <td>A</td>\n",
       "      <td>NaN</td>\n",
       "      <td>DROITE</td>\n",
       "      <td>8.75</td>\n",
       "      <td>3.30</td>\n",
       "      <td>3.30</td>\n",
       "      <td>4</td>\n",
       "      <td>NaN</td>\n",
       "      <td>Toute l'année</td>\n",
       "      <td>{\"type\": \"Polygon\", \"coordinates\": [[[2.327307...</td>\n",
       "      <td>48.8280683446, 2.32731788338</td>\n",
       "    </tr>\n",
       "  </tbody>\n",
       "</table>\n",
       "</div>"
      ],
      "text/plain": [
       "       LIBELLE_TYPE              ...                               geo_point_2d\n",
       "0  TERRASSE OUVERTE              ...               48.8589103771, 2.34633445832\n",
       "1  TERRASSE OUVERTE              ...               48.8589763984, 2.34641878406\n",
       "2  TERRASSE OUVERTE              ...               48.8577730703, 2.34692666255\n",
       "3   PLANCHER MOBILE              ...               48.8281140898, 2.32736701829\n",
       "4   PLANCHER MOBILE              ...               48.8280683446, 2.32731788338\n",
       "\n",
       "[5 rows x 16 columns]"
      ]
     },
     "execution_count": 3,
     "metadata": {},
     "output_type": "execute_result"
    }
   ],
   "source": [
    "data.head()"
   ]
  },
  {
   "cell_type": "code",
   "execution_count": 4,
   "metadata": {
    "collapsed": false
   },
   "outputs": [
    {
     "data": {
      "text/plain": [
       "(20786, 16)"
      ]
     },
     "execution_count": 4,
     "metadata": {},
     "output_type": "execute_result"
    }
   ],
   "source": [
    "data.shape"
   ]
  },
  {
   "cell_type": "code",
   "execution_count": 5,
   "metadata": {
    "collapsed": false
   },
   "outputs": [
    {
     "data": {
      "text/plain": [
       "TERRASSE OUVERTE       10598\n",
       "ETALAGE                 6305\n",
       "TERRASSE FERMEE         2633\n",
       "COMMERCE ACCESSOIRE      407\n",
       "PLANCHER MOBILE          308\n",
       "CONTRE TERRASSE          300\n",
       "CONTRE ETALAGE           235\n",
       "Name: LIBELLE_TYPE, dtype: int64"
      ]
     },
     "execution_count": 5,
     "metadata": {},
     "output_type": "execute_result"
    }
   ],
   "source": [
    "data.LIBELLE_TYPE.value_counts()"
   ]
  },
  {
   "cell_type": "code",
   "execution_count": 6,
   "metadata": {
    "collapsed": false
   },
   "outputs": [
    {
     "data": {
      "text/plain": [
       "RESTAURANT                                  5613\n",
       "BAR - CAFE - PUB                            2163\n",
       "RESTAURATION RAPIDE - SNACK                 1679\n",
       "BRASSERIE                                   1369\n",
       "BAR RESTAURANT                              1166\n",
       "ALIMENTATION GENERALE                        935\n",
       "FLEURISTE                                    534\n",
       "BAR TABAC                                    435\n",
       "HOTEL OU RESIDENCE HOTELIERE                 399\n",
       "PRET A PORTER                                396\n",
       "BOULANGERIE - PATISSERIE                     382\n",
       "BOUCHERIE                                    284\n",
       "FRUITS ET LEGUMES                            283\n",
       "LIBRAIRIE                                    253\n",
       "_Non_definie                                 245\n",
       "SUPERMARCHE - HYPERMARCHE                    204\n",
       "TRAITEUR - PLATS CUISINES                    190\n",
       "BAZAR                                        190\n",
       "SALON DE THE                                 176\n",
       "BOULANGERIE                                  136\n",
       "CHAUSSEUR                                    130\n",
       "PIZZERIA                                     117\n",
       "CADEAUX - SOUVENIRS                          114\n",
       "EPICERIE                                     102\n",
       "TABAC - ARTICLES POUR FUMEURS                100\n",
       "COIFFURE                                      90\n",
       "HOTEL RESTAURANT                              89\n",
       "VINS - CAVES                                  87\n",
       "QUINCAILLERIE - DROGUERIE                     81\n",
       "SANDWICHERIE                                  80\n",
       "                                            ... \n",
       "PAYSAGISTE                                     1\n",
       "INTERNET                                       1\n",
       "AUTOMOBILES VENTE - ACHAT                      1\n",
       "SERVICES A LA PERSONNE - AIDE A DOMICILE       1\n",
       "PARAPLUIES                                     1\n",
       "BOUCHERIE CHEVALINE                            1\n",
       "FROMAGER                                       1\n",
       "PRODUITS PETROLIERS RAFFINAGE                  1\n",
       "LOCATION VIDEO - VIDEO CLUB                    1\n",
       "DESSIN - CONCEPTION GRAPHIQUE                  1\n",
       "TOILETTAGE ANIMAUX                             1\n",
       "IMPORT - EXPORT AUTOMOBILE                     1\n",
       "ELECTRONIQUE                                   1\n",
       "CASINO - SALLE DE JEUX                         1\n",
       "TATOUAGE                                       1\n",
       "KINESITHERAPIE                                 1\n",
       "CENTRE DE LOISIRS - GARDERIE                   1\n",
       "DEMENAGEMENT - GARDE MEUBLES                   1\n",
       "ENCADREMENT                                    1\n",
       "REPROGRAPHIE                                   1\n",
       "LAVERIE                                        1\n",
       "MARBRIER                                       1\n",
       "FABRICATION DE CHAUSSURES                      1\n",
       "VENTE A DOMICILE                               1\n",
       "LABORATOIRE ANALYSES MEDICALES                 1\n",
       "TRANSPORTS FERROVIAIRES                        1\n",
       "ELECTRICITE                                    1\n",
       "ENTREPRISE GENERALE BATIMENT                   1\n",
       "MATERIEL DE TELECOMMUNICATION                  1\n",
       "ETABLISSEMENT DE CREDIT                        1\n",
       "Name: RED_PROFESSION, dtype: int64"
      ]
     },
     "execution_count": 6,
     "metadata": {},
     "output_type": "execute_result"
    }
   ],
   "source": [
    "data.RED_PROFESSION.value_counts()"
   ]
  },
  {
   "cell_type": "code",
   "execution_count": null,
   "metadata": {
    "collapsed": true
   },
   "outputs": [],
   "source": []
  }
 ],
 "metadata": {
  "anaconda-cloud": {},
  "kernelspec": {
   "display_name": "Python [conda env:py35]",
   "language": "python",
   "name": "conda-env-py35-py"
  },
  "language_info": {
   "codemirror_mode": {
    "name": "ipython",
    "version": 3
   },
   "file_extension": ".py",
   "mimetype": "text/x-python",
   "name": "python",
   "nbconvert_exporter": "python",
   "pygments_lexer": "ipython3",
   "version": "3.5.2"
  }
 },
 "nbformat": 4,
 "nbformat_minor": 1
}
