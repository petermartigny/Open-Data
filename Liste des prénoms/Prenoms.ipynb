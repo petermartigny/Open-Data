{
 "cells": [
  {
   "cell_type": "code",
   "execution_count": 7,
   "metadata": {
    "collapsed": true
   },
   "outputs": [],
   "source": [
    "import pandas as pd\n",
    "pd.set_option('display.max_columns', False)\n",
    "import time\n",
    "import seaborn as sns\n",
    "import matplotlib.pyplot as plt\n",
    "%matplotlib inline"
   ]
  },
  {
   "cell_type": "code",
   "execution_count": 8,
   "metadata": {
    "collapsed": true
   },
   "outputs": [],
   "source": [
    "data = pd.read_csv('liste_des_prenoms_2004_a_2012.csv', sep=';')"
   ]
  },
  {
   "cell_type": "code",
   "execution_count": 9,
   "metadata": {
    "collapsed": false
   },
   "outputs": [
    {
     "data": {
      "text/html": [
       "<div>\n",
       "<table border=\"1\" class=\"dataframe\">\n",
       "  <thead>\n",
       "    <tr style=\"text-align: right;\">\n",
       "      <th></th>\n",
       "      <th>Prenoms</th>\n",
       "      <th>Nombre</th>\n",
       "      <th>Sexe</th>\n",
       "      <th>Annee</th>\n",
       "    </tr>\n",
       "  </thead>\n",
       "  <tbody>\n",
       "    <tr>\n",
       "      <th>0</th>\n",
       "      <td>Adam</td>\n",
       "      <td>353</td>\n",
       "      <td>M</td>\n",
       "      <td>2016</td>\n",
       "    </tr>\n",
       "    <tr>\n",
       "      <th>1</th>\n",
       "      <td>Alexandre</td>\n",
       "      <td>197</td>\n",
       "      <td>M</td>\n",
       "      <td>2016</td>\n",
       "    </tr>\n",
       "    <tr>\n",
       "      <th>2</th>\n",
       "      <td>Victor</td>\n",
       "      <td>197</td>\n",
       "      <td>M</td>\n",
       "      <td>2016</td>\n",
       "    </tr>\n",
       "    <tr>\n",
       "      <th>3</th>\n",
       "      <td>Liam</td>\n",
       "      <td>129</td>\n",
       "      <td>M</td>\n",
       "      <td>2016</td>\n",
       "    </tr>\n",
       "    <tr>\n",
       "      <th>4</th>\n",
       "      <td>Ethan</td>\n",
       "      <td>119</td>\n",
       "      <td>M</td>\n",
       "      <td>2016</td>\n",
       "    </tr>\n",
       "  </tbody>\n",
       "</table>\n",
       "</div>"
      ],
      "text/plain": [
       "     Prenoms  Nombre Sexe  Annee\n",
       "0       Adam     353    M   2016\n",
       "1  Alexandre     197    M   2016\n",
       "2     Victor     197    M   2016\n",
       "3       Liam     129    M   2016\n",
       "4      Ethan     119    M   2016"
      ]
     },
     "execution_count": 9,
     "metadata": {},
     "output_type": "execute_result"
    }
   ],
   "source": [
    "data.head()"
   ]
  },
  {
   "cell_type": "code",
   "execution_count": 10,
   "metadata": {
    "collapsed": false
   },
   "outputs": [
    {
     "data": {
      "text/plain": [
       "(15324, 4)"
      ]
     },
     "execution_count": 10,
     "metadata": {},
     "output_type": "execute_result"
    }
   ],
   "source": [
    "data.shape"
   ]
  },
  {
   "cell_type": "code",
   "execution_count": 11,
   "metadata": {
    "collapsed": false
   },
   "outputs": [
    {
     "data": {
      "text/plain": [
       "F    7790\n",
       "M    7506\n",
       "X      28\n",
       "Name: Sexe, dtype: int64"
      ]
     },
     "execution_count": 11,
     "metadata": {},
     "output_type": "execute_result"
    }
   ],
   "source": [
    "data.Sexe.value_counts()"
   ]
  },
  {
   "cell_type": "code",
   "execution_count": 13,
   "metadata": {
    "collapsed": false
   },
   "outputs": [
    {
     "data": {
      "text/plain": [
       "2315"
      ]
     },
     "execution_count": 13,
     "metadata": {},
     "output_type": "execute_result"
    }
   ],
   "source": [
    "len(data.Prenoms.unique())"
   ]
  },
  {
   "cell_type": "code",
   "execution_count": 15,
   "metadata": {
    "collapsed": false
   },
   "outputs": [
    {
     "data": {
      "text/plain": [
       "2014    1311\n",
       "2016    1311\n",
       "2015    1305\n",
       "2012    1301\n",
       "2011    1295\n",
       "2013    1283\n",
       "2010    1136\n",
       "2009    1124\n",
       "2006    1078\n",
       "2008    1060\n",
       "2007    1053\n",
       "2005    1045\n",
       "2004    1022\n",
       "Name: Annee, dtype: int64"
      ]
     },
     "execution_count": 15,
     "metadata": {},
     "output_type": "execute_result"
    }
   ],
   "source": [
    "data.Annee.value_counts()"
   ]
  },
  {
   "cell_type": "code",
   "execution_count": 45,
   "metadata": {
    "collapsed": false
   },
   "outputs": [],
   "source": [
    "def top_n(N):\n",
    "    result = {}\n",
    "    for year in sorted(data.Annee.unique()):\n",
    "        aux = data[data.Annee == year]\n",
    "        aux = aux.sort('Nombre', ascending = False)\n",
    "        girls = aux[aux.Sexe == 'F'].Prenoms.tolist()[:N]\n",
    "        boys = aux[aux.Sexe == 'M'].Prenoms.tolist()[:N]\n",
    "        result[year] = [girls, boys]\n",
    "    return result"
   ]
  },
  {
   "cell_type": "code",
   "execution_count": 55,
   "metadata": {
    "collapsed": false
   },
   "outputs": [
    {
     "name": "stdout",
     "output_type": "stream",
     "text": [
      "In 2004, the 5 most popular names for girls were ['Camille', 'Inès', 'Emma', 'Louise', 'Sarah'], whereas the 5 most popular           for boys were ['Alexandre', 'Paul', 'Thomas', 'Raphaël', 'Gabriel'].\n",
      "\n",
      "\n",
      "In 2005, the 5 most popular names for girls were ['Inès', 'Emma', 'Camille', 'Sarah', 'Clara'], whereas the 5 most popular           for boys were ['Alexandre', 'Raphaël', 'Arthur', 'Paul', 'Antoine'].\n",
      "\n",
      "\n",
      "In 2006, the 5 most popular names for girls were ['Camille', 'Emma', 'Inès', 'Sarah', 'Louise'], whereas the 5 most popular           for boys were ['Raphaël', 'Alexandre', 'Gabriel', 'Thomas', 'Louis'].\n",
      "\n",
      "\n",
      "In 2007, the 5 most popular names for girls were ['Louise', 'Emma', 'Camille', 'Chloe', 'Sarah'], whereas the 5 most popular           for boys were ['Gabriel', 'Raphaël', 'Alexandre', 'Paul', 'Louis'].\n",
      "\n",
      "\n",
      "In 2008, the 5 most popular names for girls were ['Louise', 'Chloe', 'Camille', 'Emma', 'Sarah'], whereas the 5 most popular           for boys were ['Gabriel', 'Raphaël', 'Adam', 'Arthur', 'Alexandre'].\n",
      "\n",
      "\n",
      "In 2009, the 5 most popular names for girls were ['Louise', 'Camille', 'Chloe', 'Emma', 'Sarah'], whereas the 5 most popular           for boys were ['Gabriel', 'Raphaël', 'Alexandre', 'Adam', 'Paul'].\n",
      "\n",
      "\n",
      "In 2010, the 5 most popular names for girls were ['Louise', 'Chloe', 'Camille', 'Emma', 'Sarah'], whereas the 5 most popular           for boys were ['Gabriel', 'Arthur', 'Raphaël', 'Adam', 'Louis'].\n",
      "\n",
      "\n",
      "In 2011, the 5 most popular names for girls were ['Louise', 'Chloe', 'Emma', 'Inès', 'Alice'], whereas the 5 most popular           for boys were ['Gabriel', 'Arthur', 'Raphaël', 'Adam', 'Paul'].\n",
      "\n",
      "\n",
      "In 2012, the 5 most popular names for girls were ['Louise', 'Chloe', 'Inès', 'Alice', 'Sarah'], whereas the 5 most popular           for boys were ['Gabriel', 'Adam', 'Arthur', 'Louis', 'Raphaël'].\n",
      "\n",
      "\n",
      "In 2013, the 5 most popular names for girls were ['Louise', 'Chloé', 'Alice', 'Sarah', 'Inès'], whereas the 5 most popular           for boys were ['Gabriel', 'Adam', 'Raphaël', 'Louis', 'Arthur'].\n",
      "\n",
      "\n",
      "In 2014, the 5 most popular names for girls were ['Louise', 'Chloé', 'Inès', 'Alice', 'Jeanne'], whereas the 5 most popular           for boys were ['Gabriel', 'Adam', 'Raphaël', 'Louis', 'Paul'].\n",
      "\n",
      "\n",
      "In 2015, the 5 most popular names for girls were ['Louise', 'Alice', 'Chloé', 'Emma', 'Inès'], whereas the 5 most popular           for boys were ['Adam', 'Gabriel', 'Raphaël', 'Paul', 'Louis'].\n",
      "\n",
      "\n",
      "In 2016, the 5 most popular names for girls were ['Louise', 'Emma', 'Alice', 'Chloé', 'Jeanne'], whereas the 5 most popular           for boys were ['Gabriel', 'Adam', 'Raphaël', 'Louis', 'Arthur'].\n",
      "\n",
      "\n"
     ]
    },
    {
     "name": "stderr",
     "output_type": "stream",
     "text": [
      "C:\\Users\\Peter martigny\\Anaconda3\\envs\\py35\\lib\\site-packages\\ipykernel\\__main__.py:5: FutureWarning: sort(columns=....) is deprecated, use sort_values(by=.....)\n"
     ]
    }
   ],
   "source": [
    "N = 5\n",
    "a = top_n(N)\n",
    "for year in sorted(a.keys()):\n",
    "    res = a[year]\n",
    "    print('In {}, the {} most popular names for girls were {}, whereas the {} most popular \\\n",
    "          for boys were {}.'.format(year, N, res[0], N, res[1]))\n",
    "    print('\\n')"
   ]
  },
  {
   "cell_type": "code",
   "execution_count": 50,
   "metadata": {
    "collapsed": false
   },
   "outputs": [
    {
     "data": {
      "text/plain": [
       "[2004, 2005, 2006, 2007, 2008, 2009, 2010, 2011, 2012, 2013, 2014, 2015, 2016]"
      ]
     },
     "execution_count": 50,
     "metadata": {},
     "output_type": "execute_result"
    }
   ],
   "source": [
    "sorted(a.keys())"
   ]
  },
  {
   "cell_type": "code",
   "execution_count": null,
   "metadata": {
    "collapsed": true
   },
   "outputs": [],
   "source": []
  }
 ],
 "metadata": {
  "kernelspec": {
   "display_name": "Python [conda env:py35]",
   "language": "python",
   "name": "conda-env-py35-py"
  },
  "language_info": {
   "codemirror_mode": {
    "name": "ipython",
    "version": 3
   },
   "file_extension": ".py",
   "mimetype": "text/x-python",
   "name": "python",
   "nbconvert_exporter": "python",
   "pygments_lexer": "ipython3",
   "version": "3.5.2"
  }
 },
 "nbformat": 4,
 "nbformat_minor": 1
}
