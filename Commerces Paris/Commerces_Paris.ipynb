{
 "cells": [
  {
   "cell_type": "code",
   "execution_count": 27,
   "metadata": {
    "collapsed": true
   },
   "outputs": [],
   "source": [
    "import pandas as pd\n",
    "pd.set_option('display.max_columns', False)\n",
    "import time\n",
    "import seaborn as sns\n",
    "import matplotlib.pyplot as plt\n",
    "%matplotlib inline"
   ]
  },
  {
   "cell_type": "code",
   "execution_count": 2,
   "metadata": {
    "collapsed": true
   },
   "outputs": [],
   "source": [
    "data = pd.read_csv('commercesparis.csv', sep=';')"
   ]
  },
  {
   "cell_type": "code",
   "execution_count": 3,
   "metadata": {
    "collapsed": false
   },
   "outputs": [
    {
     "data": {
      "text/html": [
       "<div>\n",
       "<table border=\"1\" class=\"dataframe\">\n",
       "  <thead>\n",
       "    <tr style=\"text-align: right;\">\n",
       "      <th></th>\n",
       "      <th>ORDRE</th>\n",
       "      <th>ARRONDISSEMENT</th>\n",
       "      <th>QUARTIER</th>\n",
       "      <th>IRIS</th>\n",
       "      <th>ILOT</th>\n",
       "      <th>NUMERO</th>\n",
       "      <th>LET</th>\n",
       "      <th>TYPE VOIE</th>\n",
       "      <th>LIBELLE VOIE</th>\n",
       "      <th>ADRESSE COMPLETE</th>\n",
       "      <th>CFA</th>\n",
       "      <th>X</th>\n",
       "      <th>Y</th>\n",
       "      <th>XY</th>\n",
       "      <th>SEQUENCE</th>\n",
       "      <th>SITUATION</th>\n",
       "      <th>CODE ACTIVITE</th>\n",
       "      <th>LIBELLE ACTIVITE</th>\n",
       "      <th>SURFACE</th>\n",
       "      <th>CC ID</th>\n",
       "      <th>CC NIV</th>\n",
       "    </tr>\n",
       "  </thead>\n",
       "  <tbody>\n",
       "    <tr>\n",
       "      <th>0</th>\n",
       "      <td>36901.0</td>\n",
       "      <td>75011</td>\n",
       "      <td>42.0</td>\n",
       "      <td>751114202</td>\n",
       "      <td>75111420031</td>\n",
       "      <td>108.0</td>\n",
       "      <td>NaN</td>\n",
       "      <td>AV</td>\n",
       "      <td>REPUBLIQUE</td>\n",
       "      <td>108 AV REPUBLIQUE</td>\n",
       "      <td>8158</td>\n",
       "      <td>654797.6800</td>\n",
       "      <td>6.862767e+06</td>\n",
       "      <td>48.863352, 2.383841</td>\n",
       "      <td>2.0</td>\n",
       "      <td>Sur rue</td>\n",
       "      <td>SB203</td>\n",
       "      <td>Assurances</td>\n",
       "      <td>1.0</td>\n",
       "      <td>NaN</td>\n",
       "      <td>NaN</td>\n",
       "    </tr>\n",
       "    <tr>\n",
       "      <th>1</th>\n",
       "      <td>36902.0</td>\n",
       "      <td>75011</td>\n",
       "      <td>42.0</td>\n",
       "      <td>751114202</td>\n",
       "      <td>75111420031</td>\n",
       "      <td>108.0</td>\n",
       "      <td>NaN</td>\n",
       "      <td>AV</td>\n",
       "      <td>REPUBLIQUE</td>\n",
       "      <td>108 AV REPUBLIQUE</td>\n",
       "      <td>8158</td>\n",
       "      <td>654797.6800</td>\n",
       "      <td>6.862767e+06</td>\n",
       "      <td>48.863352, 2.383841</td>\n",
       "      <td>3.0</td>\n",
       "      <td>Sur rue</td>\n",
       "      <td>CE102</td>\n",
       "      <td>Papeterie - Fournitures de bureau</td>\n",
       "      <td>1.0</td>\n",
       "      <td>NaN</td>\n",
       "      <td>NaN</td>\n",
       "    </tr>\n",
       "    <tr>\n",
       "      <th>2</th>\n",
       "      <td>36903.0</td>\n",
       "      <td>75011</td>\n",
       "      <td>42.0</td>\n",
       "      <td>751114202</td>\n",
       "      <td>75111420031</td>\n",
       "      <td>110.0</td>\n",
       "      <td>NaN</td>\n",
       "      <td>AV</td>\n",
       "      <td>REPUBLIQUE</td>\n",
       "      <td>110 AV REPUBLIQUE</td>\n",
       "      <td>8158</td>\n",
       "      <td>654824.4592</td>\n",
       "      <td>6.862759e+06</td>\n",
       "      <td>48.863283, 2.384205</td>\n",
       "      <td>1.0</td>\n",
       "      <td>Sur rue</td>\n",
       "      <td>AF102</td>\n",
       "      <td>Bureau en boutique</td>\n",
       "      <td>1.0</td>\n",
       "      <td>NaN</td>\n",
       "      <td>NaN</td>\n",
       "    </tr>\n",
       "    <tr>\n",
       "      <th>3</th>\n",
       "      <td>36913.0</td>\n",
       "      <td>75011</td>\n",
       "      <td>42.0</td>\n",
       "      <td>751114202</td>\n",
       "      <td>75111420031</td>\n",
       "      <td>48.0</td>\n",
       "      <td>NaN</td>\n",
       "      <td>RUE</td>\n",
       "      <td>SERVAN</td>\n",
       "      <td>48 RUE SERVAN</td>\n",
       "      <td>8941</td>\n",
       "      <td>654670.6989</td>\n",
       "      <td>6.862674e+06</td>\n",
       "      <td>48.862505, 2.382132</td>\n",
       "      <td>1.0</td>\n",
       "      <td>Sur rue</td>\n",
       "      <td>AF102</td>\n",
       "      <td>Bureau en boutique</td>\n",
       "      <td>1.0</td>\n",
       "      <td>NaN</td>\n",
       "      <td>NaN</td>\n",
       "    </tr>\n",
       "    <tr>\n",
       "      <th>4</th>\n",
       "      <td>36917.0</td>\n",
       "      <td>75011</td>\n",
       "      <td>42.0</td>\n",
       "      <td>751114203</td>\n",
       "      <td>75111420032</td>\n",
       "      <td>109.0</td>\n",
       "      <td>NaN</td>\n",
       "      <td>RUE</td>\n",
       "      <td>CHEMIN VERT</td>\n",
       "      <td>109 RUE CHEMIN VERT</td>\n",
       "      <td>1966</td>\n",
       "      <td>654642.5679</td>\n",
       "      <td>6.862549e+06</td>\n",
       "      <td>48.861349, 2.381697</td>\n",
       "      <td>1.0</td>\n",
       "      <td>Sur rue</td>\n",
       "      <td>AA101</td>\n",
       "      <td>Locaux Vacants</td>\n",
       "      <td>1.0</td>\n",
       "      <td>NaN</td>\n",
       "      <td>NaN</td>\n",
       "    </tr>\n",
       "  </tbody>\n",
       "</table>\n",
       "</div>"
      ],
      "text/plain": [
       "     ORDRE  ARRONDISSEMENT  QUARTIER   ...    SURFACE  CC ID  CC NIV\n",
       "0  36901.0           75011      42.0   ...        1.0    NaN     NaN\n",
       "1  36902.0           75011      42.0   ...        1.0    NaN     NaN\n",
       "2  36903.0           75011      42.0   ...        1.0    NaN     NaN\n",
       "3  36913.0           75011      42.0   ...        1.0    NaN     NaN\n",
       "4  36917.0           75011      42.0   ...        1.0    NaN     NaN\n",
       "\n",
       "[5 rows x 21 columns]"
      ]
     },
     "execution_count": 3,
     "metadata": {},
     "output_type": "execute_result"
    }
   ],
   "source": [
    "data.head()"
   ]
  },
  {
   "cell_type": "code",
   "execution_count": 5,
   "metadata": {
    "collapsed": false
   },
   "outputs": [
    {
     "data": {
      "text/plain": [
       "(83844, 21)"
      ]
     },
     "execution_count": 5,
     "metadata": {},
     "output_type": "execute_result"
    }
   ],
   "source": [
    "data.shape"
   ]
  },
  {
   "cell_type": "code",
   "execution_count": 6,
   "metadata": {
    "collapsed": false
   },
   "outputs": [
    {
     "data": {
      "text/plain": [
       "Bureau en boutique                                                             7433\n",
       "Locaux Vacants                                                                 6721\n",
       "Brasserie - Restauration continue sans tabac                                   2812\n",
       "Coiffure                                                                       2608\n",
       "Prêt-à-porter Femme                                                            2604\n",
       "Restauration rapide assise                                                     2078\n",
       "Restaurant traditionnel français                                               1947\n",
       "Agence immobilière                                                             1840\n",
       "Restaurant asiatique                                                           1643\n",
       "Bar ou Café sans tabac                                                         1377\n",
       "Galerie d'art                                                                  1316\n",
       "Banque - Caisse d'épargne                                                      1264\n",
       "Boulangerie - Boulangerie Pâtisserie                                           1188\n",
       "Restaurant européen                                                            1178\n",
       "Commerce de gros fabrication habillement                                       1153\n",
       "Prêt-à-porter Mixte                                                            1088\n",
       "Travaux généraux du bâtiment (électricité, plomberie, peinture, isolation…)    1068\n",
       "Alimentation générale  <120m²                                                  1004\n",
       "Pharmacie                                                                       980\n",
       "Institut de beauté - Activités thermales et thalasso                            967\n",
       "Atelier en boutique                                                             953\n",
       "Locaux en travaux                                                               938\n",
       "Opticien                                                                        915\n",
       "Prêt-à-porter Homme                                                             852\n",
       "Restauration rapide debout                                                      829\n",
       "Librairie                                                                       756\n",
       "Stockage en boutique                                                            744\n",
       "Hôtel de tourisme avec 3 étoiles                                                698\n",
       "Agence voyage-tourisme - Compagnies aériennes                                   678\n",
       "Bijouterie fantaisie - Accessoire de mode                                       651\n",
       "                                                                               ... \n",
       "Vente d'articles religieux                                                       37\n",
       "Vente de jeux vidéo (+ salle de jeux vidéos)                                     36\n",
       "Vidéo Club (Location de cassettes, DVD)                                          34\n",
       "Distributeur automatique de billets (non lié à une banque)                       32\n",
       "Hôtel de tourisme avec 5 étoiles                                                 32\n",
       "Supermarché discount                                                             32\n",
       "Généraliste électroménager - Radio - TV - Hi-Fi                                  30\n",
       "Salle de concert                                                                 27\n",
       "Restaurant antillais                                                             27\n",
       "Vente d'animaux de compagnie                                                     22\n",
       "Jardinerie - Pépiniériste                                                        21\n",
       "Agence Pôle emploi                                                               21\n",
       "Garage + Vente essence                                                           20\n",
       "Contrôle technique automobile                                                    20\n",
       "Salle ou club de jeux                                                            19\n",
       "Location d'appartements (Appart Hotel, Citadines…)                               18\n",
       "Supermarché spécialisé                                                           15\n",
       "Billetterie - Réservation spectacles                                             14\n",
       "Auberge de jeunesse                                                              13\n",
       "Cafétéria                                                                        12\n",
       "Jeux de hasard et d'argent                                                       11\n",
       "Salle des ventes                                                                 10\n",
       "Concessionnaire Auto + Essence + Garage                                          10\n",
       "Grand multispécialiste culturel                                                   9\n",
       "Grand magasin                                                                     8\n",
       "Hôtel de tourisme - Palace                                                        7\n",
       "Bars à sourire                                                                    7\n",
       "Hypermarché                                                                       4\n",
       "Alimentation générale de luxe > 300 m²                                            4\n",
       "Concessionnaire Auto + Essence                                                    3\n",
       "Name: LIBELLE ACTIVITE, dtype: int64"
      ]
     },
     "execution_count": 6,
     "metadata": {},
     "output_type": "execute_result"
    }
   ],
   "source": [
    "data['LIBELLE ACTIVITE'].value_counts()"
   ]
  },
  {
   "cell_type": "code",
   "execution_count": 17,
   "metadata": {
    "collapsed": false
   },
   "outputs": [],
   "source": [
    "data['LIBELLE ACTIVITE'] = data['LIBELLE ACTIVITE'].apply(lambda x: x.lower())"
   ]
  },
  {
   "cell_type": "code",
   "execution_count": 24,
   "metadata": {
    "collapsed": false
   },
   "outputs": [],
   "source": [
    "restaurants = data[data['LIBELLE ACTIVITE'].str.contains(\"restaur\")]"
   ]
  },
  {
   "cell_type": "code",
   "execution_count": 26,
   "metadata": {
    "collapsed": false
   },
   "outputs": [
    {
     "data": {
      "text/plain": [
       "brasserie - restauration continue sans tabac      2812\n",
       "restauration rapide assise                        2078\n",
       "restaurant traditionnel français                  1947\n",
       "restaurant asiatique                              1643\n",
       "restaurant européen                               1178\n",
       "restauration rapide debout                         829\n",
       "restaurant indien, pakistanais et moyen orient     394\n",
       "brasserie - restauration continue avec tabac       259\n",
       "restaurant maghrébin                               207\n",
       "restaurant africain                                138\n",
       "autre restaurant du monde                          107\n",
       "restaurant central et sud américain                 97\n",
       "restaurant antillais                                27\n",
       "Name: LIBELLE ACTIVITE, dtype: int64"
      ]
     },
     "execution_count": 26,
     "metadata": {},
     "output_type": "execute_result"
    }
   ],
   "source": [
    "restaurants['LIBELLE ACTIVITE'].value_counts()"
   ]
  },
  {
   "cell_type": "code",
   "execution_count": 35,
   "metadata": {
    "collapsed": false
   },
   "outputs": [
    {
     "data": {
      "image/png": "[encoded data removed]",
      "text/plain": [
       "<matplotlib.figure.Figure at 0x218fab3ce48>"
      ]
     },
     "metadata": {},
     "output_type": "display_data"
    }
   ],
   "source": [
    "ax = sns.countplot(y=\"LIBELLE ACTIVITE\", data=restaurants)"
   ]
  },
  {
   "cell_type": "code",
   "execution_count": null,
   "metadata": {
    "collapsed": true
   },
   "outputs": [],
   "source": []
  }
 ],
 "metadata": {
  "anaconda-cloud": {},
  "kernelspec": {
   "display_name": "Python [conda env:py35]",
   "language": "python",
   "name": "conda-env-py35-py"
  },
  "language_info": {
   "codemirror_mode": {
    "name": "ipython",
    "version": 3
   },
   "file_extension": ".py",
   "mimetype": "text/x-python",
   "name": "python",
   "nbconvert_exporter": "python",
   "pygments_lexer": "ipython3",
   "version": "3.5.2"
  }
 },
 "nbformat": 4,
 "nbformat_minor": 1
}
